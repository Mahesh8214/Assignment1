{
  "nbformat": 4,
  "nbformat_minor": 0,
  "metadata": {
    "colab": {
      "provenance": []
    },
    "kernelspec": {
      "name": "python3",
      "display_name": "Python 3"
    },
    "language_info": {
      "name": "python"
    }
  },
  "cells": [
    {
      "cell_type": "code",
      "execution_count": 1,
      "metadata": {
        "id": "dUx0mWtVmdBq"
      },
      "outputs": [],
      "source": [
        "# Q1. How can you create a Bokeh plot using Python code?\n",
        "# Ans :\n",
        "# Import the required Bokeh modules and functions.\n",
        "# Prepare your data.\n",
        "# Configure the figure and set its properties.\n",
        "# Create glyphs (visual markers) to represent the data.\n",
        "# Add the glyphs to the figure.\n",
        "# Optionally, customize the appearance of the plot by setting properties of the figure, axes, title, etc.\n",
        "# Display or save the plot."
      ]
    },
    {
      "cell_type": "code",
      "source": [
        "# Q2. What are glyphs in Bokeh, and how can you add them to a Bokeh plot? Explain with an example.\n",
        "# Ans:\n",
        "# In Bokeh, glyphs are visual markers or shapes used to represent the data points in a plot.\n",
        "#  Bokeh provides various glyph types such as circles, squares, triangles, lines, etc.\n",
        "\n",
        "# To add glyphs to a Bokeh plot, you typically use the glyph method corresponding to the\n",
        "#  desired marker shape and pass the data and relevant properties\n",
        "\n",
        "from bokeh.plotting import figure, show\n",
        "\n",
        "# Prepare the data\n",
        "x = [1, 2, 3, 4, 5]\n",
        "y = [6, 7, 2, 4, 5]\n",
        "\n",
        "# Create the figure\n",
        "p = figure(title=\"Line Glyph Example\", x_axis_label='X', y_axis_label='Y')\n",
        "\n",
        "# Create the line glyph\n",
        "p.line(x, y, line_width=2, color='red')\n",
        "\n",
        "# Display the plot\n",
        "show(p)\n",
        "\n",
        "# In this example, we use the line() method to create a line glyph.\n",
        "# We pass the x and y data points and specify additional properties like line_width and color to customize the appearance of the line."
      ],
      "metadata": {
        "id": "IxTOsYCxmlSi"
      },
      "execution_count": 2,
      "outputs": []
    },
    {
      "cell_type": "code",
      "source": [
        "# Q3. How can you customize the appearance of a Bokeh plot, including the axes, title, and legend?\n",
        "# Ans:\n",
        "# Bokeh provides extensive customization options to modify the appearance of a plot.\n",
        "# Here is a examples of how you can customize different elements of a Bokeh plot\n",
        "\n",
        "# # Customize x-axis and y-axis labels\n",
        "# plot.x_axis.axis_label = \"X-axis Label\"\n",
        "# plot.y_axis.axis_label = \"Y-axis Label\"\n",
        "\n",
        "# # Customize tick labels\n",
        "# plot.xaxis.major_label_text_color = \"blue\"\n",
        "# plot.yaxis.major_label_text_font_size = \"14pt\"\n",
        "\n",
        "# # Customize tick lines\n",
        "# plot.xaxis.major_tick_line_color = \"red\"\n",
        "# plot.yaxis.major_tick_line_width = 2.0\n"
      ],
      "metadata": {
        "colab": {
          "base_uri": "https://localhost:8080/",
          "height": 130
        },
        "id": "6p88wowbmnrr",
        "outputId": "1cdc450a-6dca-424a-de0c-1efd057cbe52"
      },
      "execution_count": 5,
      "outputs": [
        {
          "output_type": "error",
          "ename": "SyntaxError",
          "evalue": "ignored",
          "traceback": [
            "\u001b[0;36m  File \u001b[0;32m\"<ipython-input-5-584d9fd1925b>\"\u001b[0;36m, line \u001b[0;32m2\u001b[0m\n\u001b[0;31m    Ans:\u001b[0m\n\u001b[0m        ^\u001b[0m\n\u001b[0;31mSyntaxError\u001b[0m\u001b[0;31m:\u001b[0m invalid syntax\n"
          ]
        }
      ]
    },
    {
      "cell_type": "code",
      "source": [
        "# Q4. What is a Bokeh server, and how can you use it to create interactive plots that can be updated in\n",
        "# real time?\n",
        "# Ans:\n",
        "# A Bokeh server is a Python server application that allows you to create interactive Bokeh plots and applications that can be updated in real time.\n",
        "#  It enables the synchronization of user interactions with the plots, allowing for dynamic updates without needing to reload the entire page.\n",
        "\n",
        "# To use the Bokeh server, you typically define a Python script that sets up the server, creates the plot, and defines the callbacks to\n",
        "# update the plot based on user input or periodic updates. The script runs the Bokeh server, which serves the plot and handles the interactions\n",
        "\n",
        "from bokeh.io import curdoc\n",
        "from bokeh.plotting import figure\n",
        "from bokeh.models import ColumnDataSource\n",
        "from random import random\n",
        "\n",
        "# Create a figure and data source\n",
        "p = figure()\n",
        "source = ColumnDataSource(data=dict(x=[], y=[]))\n",
        "\n",
        "# Create a scatter glyph using the data source\n",
        "p.circle(x='x', y='y', source=source)\n",
        "\n",
        "# Define a callback function to update the plot\n",
        "def update():\n",
        "    new_data = dict(x=[random()], y=[random()])\n",
        "    source.stream(new_data)\n",
        "\n",
        "# Add a periodic callback to update the plot every second\n",
        "curdoc().add_periodic_callback(update, 1000)\n",
        "\n",
        "# Run the Bokeh server\n",
        "show(p)\n"
      ],
      "metadata": {
        "id": "5ZH0fjBzmp6i"
      },
      "execution_count": 4,
      "outputs": []
    },
    {
      "cell_type": "code",
      "source": [
        "# # Q5. How can you embed a Bokeh plot into a web page or dashboard using Flask or Django?\n",
        "# Create the Bokeh plot using the Python code.\n",
        "# Export the plot to an HTML file using bokeh.embed.file_html() or bokeh.embed.components().\n",
        "# Integrate the exported HTML file or components into your Flask or Django web application.\n",
        "\n",
        "from flask import Flask, render_template\n",
        "from bokeh.plotting import figure\n",
        "from bokeh.embed import file_html\n",
        "from bokeh.resources import CDN\n",
        "\n",
        "app = Flask(__name__)\n",
        "\n",
        "@app.route('/')\n",
        "def index():\n",
        "    # Create the Bokeh plot\n",
        "    p = figure()\n",
        "    p.circle([1, 2, 3], [4, 5, 6])\n",
        "\n",
        "    # Export the plot to an HTML file\n",
        "    plot_html = file_html(p, CDN)\n",
        "\n",
        "    # Render the template with the plot\n",
        "    return render_template('index.html', plot_html=plot_html)\n",
        "\n",
        "if __name__ == '__main__':\n",
        "    app.run()\n"
      ],
      "metadata": {
        "id": "jGTEacn4msBz"
      },
      "execution_count": null,
      "outputs": []
    }
  ]
}
