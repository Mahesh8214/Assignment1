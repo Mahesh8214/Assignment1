{
  "cells": [
    {
      "cell_type": "code",
      "source": [],
      "metadata": {
        "id": "vY9t3lGZyP3G"
      },
      "id": "vY9t3lGZyP3G",
      "execution_count": null,
      "outputs": []
    },
    {
      "cell_type": "markdown",
      "source": [
        "\n",
        "### Q1. What is the purpose of forward propagation in a neural network?\n",
        "- Forward propagation is the process of passing input data through the neural network to compute the output.\n",
        "- It involves multiplying input features with corresponding weights, adding biases, and applying activation functions to generate predictions.\n",
        "- The purpose is to compute the predicted output of the neural network based on the input data.\n",
        "\n",
        "### Q2. How is forward propagation implemented mathematically in a single-layer feedforward neural network?\n",
        "- In a single-layer feedforward neural network, forward propagation can be mathematically represented as:\n",
        "  ```\n",
        "  Output = Activation(Input × Weights + Biases)\n",
        "  ```\n",
        "\n",
        "### Q3. How are activation functions used during forward propagation?\n",
        "- Activation functions introduce non-linearity to the network, allowing it to learn complex patterns and relationships in the data.\n",
        "- They are applied to the output of each neuron in the network to introduce non-linear transformations.\n",
        "- Common activation functions include ReLU, sigmoid, tanh, and softmax.\n",
        "\n",
        "### Q4. What is the role of weights and biases in forward propagation?\n",
        "- Weights and biases are the parameters of the neural network that are adjusted during training.\n",
        "- Weights determine the strength of connections between neurons, while biases provide flexibility in shifting the activation function.\n",
        "- During forward propagation, input features are multiplied by weights, and biases are added to the weighted sum before passing through activation functions.\n",
        "\n",
        "### Q5. What is the purpose of applying a softmax function in the output layer during forward propagation?\n",
        "- The softmax function is typically applied in the output layer of a neural network for multi-class classification tasks.\n",
        "- It converts the raw output scores into probabilities, ensuring that the output values sum up to 1.\n",
        "- This allows the model to provide class probabilities for each class, making it suitable for classification tasks.\n",
        "\n",
        "### Q6. What is the purpose of backward propagation in a neural network?\n",
        "- Backward propagation, also known as backpropagation, is the process of computing gradients of the loss function with respect to the weights and biases of the neural network.\n",
        "- It allows the network to adjust its parameters (weights and biases) in the direction that minimizes the loss function, thereby optimizing the model for better performance.\n",
        "\n",
        "### Q7. How is backward propagation mathematically calculated in a single-layer feedforward neural network?\n",
        "- In a single-layer feedforward neural network, backward propagation involves calculating the gradients of the loss function with respect to the weights and biases.\n",
        "- This is typically done using the chain rule of calculus, which computes the partial derivatives of the loss function with respect to each parameter.\n",
        "\n",
        "### Q8. Can you explain the concept of the chain rule and its application in backward propagation?\n",
        "- The chain rule states that the derivative of a composite function is the product of the derivatives of its individual functions.\n",
        "- In the context of neural networks, the chain rule is used to compute the gradients of the loss function with respect to the parameters of the network.\n",
        "- By recursively applying the chain rule from the output layer to the input layer, gradients are calculated layer by layer during backward propagation.\n",
        "\n",
        "### Q9. What are some common challenges or issues that can occur during backward propagation, and how can they be addressed?\n",
        "- Common challenges during backward propagation include vanishing gradients, exploding gradients, and computational inefficiency.\n",
        "- These issues can be addressed by using appropriate activation functions (e.g., ReLU to mitigate vanishing gradients), regularization techniques (e.g., L2 regularization to prevent exploding gradients), and optimizing computational efficiency (e.g., using vectorized operations).\n",
        "- Additionally, techniques like gradient clipping can be used to mitigate exploding gradients./'"
      ],
      "metadata": {
        "id": "yVgDb0B3y7Gs"
      },
      "id": "yVgDb0B3y7Gs"
    },
    {
      "cell_type": "code",
      "source": [],
      "metadata": {
        "id": "rwuReH_XyPzL"
      },
      "id": "rwuReH_XyPzL",
      "execution_count": null,
      "outputs": []
    },
    {
      "cell_type": "code",
      "source": [],
      "metadata": {
        "id": "9VsvXbgGyPw5"
      },
      "id": "9VsvXbgGyPw5",
      "execution_count": null,
      "outputs": []
    },
    {
      "cell_type": "code",
      "source": [],
      "metadata": {
        "id": "LwQmIDSryPu7"
      },
      "id": "LwQmIDSryPu7",
      "execution_count": null,
      "outputs": []
    },
    {
      "cell_type": "code",
      "source": [],
      "metadata": {
        "id": "uYquG9rayPr8"
      },
      "id": "uYquG9rayPr8",
      "execution_count": null,
      "outputs": []
    },
    {
      "cell_type": "code",
      "source": [],
      "metadata": {
        "id": "MkeZCth2yPpC"
      },
      "id": "MkeZCth2yPpC",
      "execution_count": null,
      "outputs": []
    },
    {
      "cell_type": "code",
      "source": [],
      "metadata": {
        "id": "Aut30eFoyPma"
      },
      "id": "Aut30eFoyPma",
      "execution_count": null,
      "outputs": []
    },
    {
      "cell_type": "code",
      "source": [],
      "metadata": {
        "id": "YL7r-VdayPjx"
      },
      "id": "YL7r-VdayPjx",
      "execution_count": null,
      "outputs": []
    },
    {
      "cell_type": "code",
      "source": [],
      "metadata": {
        "id": "ccd-ytJhyPgx"
      },
      "id": "ccd-ytJhyPgx",
      "execution_count": null,
      "outputs": []
    },
    {
      "cell_type": "code",
      "source": [],
      "metadata": {
        "id": "lPGgZFiTyPeT"
      },
      "id": "lPGgZFiTyPeT",
      "execution_count": null,
      "outputs": []
    },
    {
      "cell_type": "code",
      "source": [],
      "metadata": {
        "id": "f0Dkf6AtyPbn"
      },
      "id": "f0Dkf6AtyPbn",
      "execution_count": null,
      "outputs": []
    }
  ],
  "metadata": {
    "kernelspec": {
      "display_name": "Python 3 (ipykernel)",
      "language": "python",
      "name": "python3"
    },
    "language_info": {
      "codemirror_mode": {
        "name": "ipython",
        "version": 3
      },
      "file_extension": ".py",
      "mimetype": "text/x-python",
      "name": "python",
      "nbconvert_exporter": "python",
      "pygments_lexer": "ipython3",
      "version": "3.10.8"
    },
    "colab": {
      "provenance": [],
      "toc_visible": true
    }
  },
  "nbformat": 4,
  "nbformat_minor": 5
}