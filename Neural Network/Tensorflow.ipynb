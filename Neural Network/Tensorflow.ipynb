{
 "cells": [
  {
   "cell_type": "markdown",
   "id": "7ef91222-e082-4c82-b061-4c2f64868dc0",
   "metadata": {},
   "source": [
    "### Part 1: Theoretical Questions\n",
    "\n",
    "1. **Different Data Structures in TensorFlow:**\n",
    "   - **Tensor:** The primary data structure in TensorFlow, representing multi-dimensional arrays. Examples include scalar (0-D tensor), vector (1-D tensor), matrix (2-D tensor), and higher-dimensional tensors.\n",
    "   - **Variable:** A special type of tensor that maintains its value across multiple calls to the computational graph. Used for trainable parameters in models.\n",
    "   - **Placeholder:** Deprecated in TensorFlow 2.x, placeholders were used to feed data into the computational graph during runtime.\n",
    "   - **SparseTensor:** Efficient representation of sparse data, containing indices, values, and dense shape.\n",
    "   - **RaggedTensor:** Represents nested variable-length lists of tensors, useful for sequences with varying lengths.\n",
    "   - **Dataset:** Represents a sequence of elements, commonly used for data input pipelines in TensorFlow.\n",
    "\n",
    "2. **Difference between TensorFlow Constant and Variable:**\n",
    "   - **Constant:** TensorFlow constants are immutable tensors whose values cannot be changed during execution. They are initialized with a fixed value and remain constant throughout the execution of the computational graph.\n",
    "     ```python\n",
    "     import tensorflow as tf\n",
    "     constant_tensor = tf.constant([1, 2, 3])\n",
    "     ```\n",
    "   - **Variable:** TensorFlow variables are mutable tensors whose values can be changed during execution. They are typically used to represent model parameters that need to be updated during training.\n",
    "     ```python\n",
    "     import tensorflow as tf\n",
    "     variable_tensor = tf.Variable([1, 2, 3])\n",
    "     ```\n",
    "\n",
    "3. **Matrix Operations in TensorFlow:**\n",
    "   - **Matrix Addition:** Use the `tf.add()` function to perform element-wise addition between two matrices.\n",
    "     ```python\n",
    "     import tensorflow as tf\n",
    "     matrix_a = tf.constant([[1, 2], [3, 4]])\n",
    "     matrix_b = tf.constant([[5, 6], [7, 8]])\n",
    "     result = tf.add(matrix_a, matrix_b)\n",
    "     ```\n",
    "   - **Matrix Multiplication:** Use the `tf.matmul()` function to perform matrix multiplication between two matrices.\n",
    "     ```python\n",
    "     import tensorflow as tf\n",
    "     matrix_a = tf.constant([[1, 2], [3, 4]])\n",
    "     matrix_b = tf.constant([[5, 6], [7, 8]])\n",
    "     result = tf.matmul(matrix_a, matrix_b)\n",
    "     ```\n",
    "   - **Element-wise Operations:** TensorFlow supports element-wise operations on tensors. For example, you can use operators like `+`, `-`, `*`, `/` to perform element-wise addition, subtraction, multiplication, and division.\n",
    "     ```python\n",
    "     import tensorflow as tf\n",
    "     tensor_a = tf.constant([1, 2, 3])\n",
    "     tensor_b = tf.constant([4, 5, 6])\n",
    "     result = tensor_a * tensor_b  # Element-wise multiplication\n",
    " "
   ]
  },
  {
   "cell_type": "code",
   "execution_count": null,
   "id": "302bd2e2-334b-4f92-9e21-723b1303b957",
   "metadata": {},
   "outputs": [],
   "source": []
  },
  {
   "cell_type": "markdown",
   "id": "0f21a7e5-8d51-4734-a53e-9c9538ab8c9d",
   "metadata": {},
   "source": [
    "# Part 2"
   ]
  },
  {
   "cell_type": "code",
   "execution_count": 4,
   "id": "ba694445-76b6-4ae2-9b46-ad4ff1f715a0",
   "metadata": {},
   "outputs": [],
   "source": [
    "import tensorflow as tf"
   ]
  },
  {
   "cell_type": "code",
   "execution_count": 17,
   "id": "55058e00-0f2c-42df-9cef-e6f09df7a778",
   "metadata": {},
   "outputs": [
    {
     "name": "stdout",
     "output_type": "stream",
     "text": [
      "Matrix A:\n",
      "tf.Tensor(\n",
      "[[ 0.47787273  2.2578528  -0.33716187]\n",
      " [ 1.384392   -1.1506196  -2.0118773 ]\n",
      " [-0.56479734 -1.7211028  -0.19370215]], shape=(3, 3), dtype=float32)\n",
      "\n",
      "Matrix B:\n",
      "tf.Tensor(\n",
      "[[ 1.2687714   0.4110415  -0.5349112 ]\n",
      " [-0.289515   -0.2676244   0.00987281]\n",
      " [-0.31864566 -1.4187199   0.17212878]], shape=(3, 3), dtype=float32)\n",
      "\n",
      "Matrix C:\n",
      "tf.Tensor(\n",
      "[[3.0673277 2.7918506 3.3308213]\n",
      " [3.4725256 2.5034797 2.4433944]], shape=(2, 3), dtype=float32)\n",
      "\n",
      "Matrix D (A + B):\n",
      "tf.Tensor(\n",
      "[[ 1.7466441   2.6688943  -0.87207305]\n",
      " [ 1.094877   -1.418244   -2.0020044 ]\n",
      " [-0.883443   -3.1398227  -0.02157336]], shape=(3, 3), dtype=float32)\n",
      "\n",
      "Matrix E (C * D):\n",
      "tf.Tensor(\n",
      "[[ 5.471672  -6.2313395 -8.336088 ]\n",
      " [ 6.647669  -1.9545665 -8.092986 ]], shape=(2, 3), dtype=float32)\n"
     ]
    }
   ],
   "source": [
    "import tensorflow as tf\n",
    "\n",
    "# 1. Create a normal matrix A with dimensions 3x3\n",
    "A = tf.random.normal([3, 3])\n",
    "print(\"Matrix A:\")\n",
    "print(A)\n",
    "\n",
    "# 2. Create a Gaussian matrix B with dimensions 3x3\n",
    "B = tf.random.truncated_normal([3, 3])\n",
    "print(\"\\nMatrix B:\")\n",
    "print(B)\n",
    "\n",
    "# 3. Create a matrix C with dimensions 2x3, mean=3, std=0.5\n",
    "C = tf.random.normal([2, 3], mean=3, stddev=0.5)\n",
    "print(\"\\nMatrix C:\")\n",
    "print(C)\n",
    "\n",
    "# 4. Perform matrix addition between A and B, store in D\n",
    "D = A + B\n",
    "print(\"\\nMatrix D (A + B):\")\n",
    "print(D)\n",
    "\n",
    "# 5. Perform matrix multiplication between C and D, store in E\n",
    "E = tf.matmul(C, D)\n",
    "print(\"\\nMatrix E (C * D):\")\n",
    "print(E)"
   ]
  },
  {
   "cell_type": "code",
   "execution_count": null,
   "id": "15397a3d-5e3a-4f25-84cc-2b0746d2f770",
   "metadata": {},
   "outputs": [],
   "source": []
  },
  {
   "cell_type": "code",
   "execution_count": null,
   "id": "0c8bf550-b8a6-4a0a-8414-eff6d8ce3954",
   "metadata": {},
   "outputs": [],
   "source": []
  }
 ],
 "metadata": {
  "kernelspec": {
   "display_name": "Python 3 (ipykernel)",
   "language": "python",
   "name": "python3"
  },
  "language_info": {
   "codemirror_mode": {
    "name": "ipython",
    "version": 3
   },
   "file_extension": ".py",
   "mimetype": "text/x-python",
   "name": "python",
   "nbconvert_exporter": "python",
   "pygments_lexer": "ipython3",
   "version": "3.10.8"
  }
 },
 "nbformat": 4,
 "nbformat_minor": 5
}
