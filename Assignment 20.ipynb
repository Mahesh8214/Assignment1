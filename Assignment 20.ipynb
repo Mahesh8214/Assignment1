{
 "cells": [
  {
   "cell_type": "code",
   "execution_count": null,
   "id": "4fa1e437-9580-4053-b767-041c51b1d7d9",
   "metadata": {},
   "outputs": [],
   "source": [
    "import pandas as pd"
   ]
  },
  {
   "cell_type": "code",
   "execution_count": null,
   "id": "53c97ec2-25cc-46a9-a3c4-cd8be8baf004",
   "metadata": {},
   "outputs": [],
   "source": [
    "#Q1. List any five functions of the pandas library with execution. \n",
    "data = { 'Name' : ['mahesh', 'vipin' , 'vaibhav'] ,\n",
    "         'Age'  : [ 17 , 18 , 19] , \n",
    "         'Branch' : [ 'CS' , 'CS' , 'CS']\n",
    "       }\n",
    "df = pd.DataFrame(data)\n",
    "\n",
    "# function 1 - print first 2 \n",
    "print(df.head(2))\n",
    "\n",
    "# function 2 - print last 2\n",
    "print('\\n\\nLast 2 data\\n\\n',df.tail(2))\n",
    "\n",
    "# function 3 - sorting age in decending order\n",
    "print(\"\\n\\n\" , df.sort_values(by='Age' , ascending = False) )\n",
    "\n",
    "#function 4 -  Save the DataFrame to a CSV file\n",
    "df.to_csv('data.csv')\n",
    "\n",
    "#function 5 - read csv file \n",
    "print('\\n\\n' , pd.read_csv('data.csv'))\n"
   ]
  },
  {
   "cell_type": "code",
   "execution_count": null,
   "id": "62839f22-da97-4ef1-a86c-c22f1577f7ff",
   "metadata": {},
   "outputs": [],
   "source": [
    "# Q2. Given a Pandas DataFrame df with columns 'A', 'B', and 'C', write a Python function to re-index the\n",
    "#     DataFrame with a new index that starts from 1 and increments by 2 for each row. \n",
    "# Create a sample DataFrame\n",
    "data1 = {'A': [10, 20, 30],\n",
    "        'B': [40, 50, 60],\n",
    "        'C': [70, 80, 90]}\n",
    "\n",
    "df1 = pd.DataFrame(data)\n",
    "\n",
    "def re_index(df):\n",
    "    df = df.reset_index(drop=True)\n",
    "    df.index = df.index.map(lambda x : x *2 +1)\n",
    "    return df\n",
    "\n",
    "# calling function \n",
    "print(re_index(df1))\n",
    "    "
   ]
  },
  {
   "cell_type": "code",
   "execution_count": null,
   "id": "dbf7d3de-80d8-4a57-ba7e-58559fe33a48",
   "metadata": {},
   "outputs": [],
   "source": [
    "# Q3. You have a Pandas DataFrame df with a column named 'Values'. Write a Python function that\n",
    "#     iterates over the DataFrame and calculates the sum of the first three values in the 'Values' column. The\n",
    "#     function should print the sum to the console.\n",
    "\n",
    "data2 = {'Values': [10, 20, 30, 40, 50]}\n",
    "df3 = pd.DataFrame(data2)\n",
    "\n",
    "# creating function to find sum of particular column name\n",
    "def sum_df(df , col_nam , n ): # n for number of times iterate\n",
    "    sum1 = 0\n",
    "    for i in range(n):\n",
    "          sum1 = df[col_nam][i] + sum1\n",
    "    return sum1\n",
    "\n",
    "# Call the function to calculate the sum of the first three values in the 'Values' column\n",
    "result = sum_df(df3, 'Values', 3)\n",
    "print(\"Sum of the first three values:\", result)\n",
    "    "
   ]
  },
  {
   "cell_type": "code",
   "execution_count": null,
   "id": "9722db7d-e402-42c5-b3dc-165090ee7cdc",
   "metadata": {},
   "outputs": [],
   "source": [
    "# Q4. Given a Pandas DataFrame df with a column 'Text', write a Python function to create a new column\n",
    "#     'Word_Count' that contains the number of words in each row of the 'Text' column.\n",
    "\n",
    "data = {'Text': ['Hello, how are you?', 'I am doing great!', 'Python is awesome']}\n",
    "df4 = pd.DataFrame(data)\n",
    "\n",
    "def word_count(df, col_nam):\n",
    "    df['word_count'] = df[col_nam].apply(lambda x : len(str(x.split)))\n",
    "    return df\n",
    "\n",
    "print(word_count(df4,'Text'))\n"
   ]
  },
  {
   "cell_type": "code",
   "execution_count": null,
   "id": "aba70019-9c9b-44ca-a33f-d6636cda18bc",
   "metadata": {},
   "outputs": [],
   "source": [
    "# Q5. How are DataFrame.size() and DataFrame.shape() different?\n",
    "# Create a sample DataFrame\n",
    "\n",
    "data = {'A': [1, 2, 3],\n",
    "        'B': [4, 5, 6]}\n",
    "df = pd.DataFrame(data)\n",
    "\n",
    "#DataFrame.size:It returns the total number of elements in the DataFrame, \n",
    "#               which is calculated by multiplying the number of rows by the number of columns.\n",
    "# Get the size of the DataFrame\n",
    "size = df.size\n",
    "print(\"Size of the DataFrame:\", size)\n",
    "\n",
    "#DataFrame.shape: It returns a tuple representing the dimensions of the DataFrame, \n",
    "#                 where the first element of the tuple is the number of rows and the second element is the number of columns. \n",
    "# Get the shape of the DataFrame\n",
    "shape = df.shape\n",
    "print(\"Shape of the DataFrame:\", shape) "
   ]
  },
  {
   "cell_type": "code",
   "execution_count": null,
   "id": "00280999-f7c1-43ad-ad03-e6fb9a452e9c",
   "metadata": {},
   "outputs": [],
   "source": [
    "#Q6. Which function of pandas do we use to read an excel file?\n",
    "# In pandas, we use the read_excel() function to read an Excel file\n",
    "# This function allows you to read data from Excel files and create a DataFrame in pandas.\n",
    "\n",
    "import pandas as pd\n",
    "\n",
    "# Read the Excel file\n",
    "df = pd.read_excel('filename.xlsx')\n"
   ]
  },
  {
   "cell_type": "code",
   "execution_count": 28,
   "id": "5819e848-845d-4574-9911-9c48a8883a23",
   "metadata": {},
   "outputs": [
    {
     "name": "stdout",
     "output_type": "stream",
     "text": [
      "                    Email       names\n",
      "0    john.doe@example.com    john.doe\n",
      "1  jane.smith@example.com  jane.smith\n"
     ]
    }
   ],
   "source": [
    "# Q7. You have a Pandas DataFrame df that contains a column named 'Email' that contains email\n",
    "#     addresses in the format 'username@domain.com'. Write a Python function that creates a new column\n",
    "#     'Username' in df that contains only the username part of each email address.\n",
    "\n",
    "data5 = {'Email': ['john.doe@example.com', 'jane.smith@example.com']}\n",
    "df5 = pd.DataFrame(data5)\n",
    "\n",
    "# function to extract names from emails\n",
    "def extract_names(df):\n",
    "    df['names'] = df['Email'].str.split('@').str[0]\n",
    "    return df\n",
    "\n",
    "df5 = extract_names(df5)\n",
    "print(df5)\n"
   ]
  },
  {
   "cell_type": "code",
   "execution_count": 39,
   "id": "69c11c5b-642b-4de9-aa5e-256173d69c7f",
   "metadata": {},
   "outputs": [
    {
     "name": "stdout",
     "output_type": "stream",
     "text": [
      "   A  B  C\n",
      "1  8  2  7\n",
      "2  6  9  4\n",
      "4  9  1  2\n"
     ]
    }
   ],
   "source": [
    "# Q8. You have a Pandas DataFrame df with columns 'A', 'B', and 'C'. Write a Python function that selects\n",
    "#     all rows where the value in column 'A' is greater than 5 and the value in column 'B' is less than 10. The\n",
    "#     function should return a new DataFrame that contains only the selected rows.\n",
    "\n",
    "data6 = {'A': [3, 8, 6, 2, 9],\n",
    "        'B': [5, 2, 9, 3, 1],\n",
    "        'C': [1, 7, 4, 5, 2]}\n",
    "df6 = pd.DataFrame(data)\n",
    "\n",
    "def select_row(df6):\n",
    "    selected_row = df6[(df6['A']>5) & ( df6['B']<10)]\n",
    "    return selected_row\n",
    "\n",
    "print(select_row(df6))\n"
   ]
  },
  {
   "cell_type": "code",
   "execution_count": 40,
   "id": "a5ed649d-24b7-4372-aedc-4b1f35624b2a",
   "metadata": {},
   "outputs": [
    {
     "name": "stdout",
     "output_type": "stream",
     "text": [
      "Mean: 30.0\n",
      "Median: 30.0\n",
      "Standard Deviation: 15.811388300841896\n"
     ]
    }
   ],
   "source": [
    "# Q9. Given a Pandas DataFrame df with a column 'Values', write a Python function to calculate the mean,\n",
    "#     median, and standard deviation of the values in the 'Values' column.\n",
    "\n",
    "def calculate_statistics(df):\n",
    "    # Calculate the mean, median, and standard deviation of the 'Values' column\n",
    "    mean = df['Values'].mean()\n",
    "    median = df['Values'].median()\n",
    "    std_dev = df['Values'].std()\n",
    "    \n",
    "    return mean, median, std_dev\n",
    "\n",
    "data = {'Values': [10, 20, 30, 40, 50]}\n",
    "df = pd.DataFrame(data)\n",
    "\n",
    "# Call the function to calculate statistics\n",
    "mean_val, median_val, std_dev_val = calculate_statistics(df)\n",
    "\n",
    "# Print the calculated statistics\n",
    "print(\"Mean:\", mean_val)\n",
    "print(\"Median:\", median_val)\n",
    "print(\"Standard Deviation:\", std_dev_val)\n"
   ]
  },
  {
   "cell_type": "code",
   "execution_count": 47,
   "id": "64977c8f-c097-4bbb-9b19-1c4528184656",
   "metadata": {},
   "outputs": [
    {
     "name": "stdout",
     "output_type": "stream",
     "text": [
      "Moving average :    Sales       Date  Moving_Average\n",
      "0     10 2023-01-01            10.0\n",
      "1     15 2023-01-02            12.5\n",
      "2     20 2023-01-03            15.0\n",
      "3     25 2023-01-04            17.5\n",
      "4     30 2023-01-05            20.0\n",
      "5     35 2023-01-06            22.5\n",
      "6     40 2023-01-07            25.0\n",
      "7     45 2023-01-08            30.0\n",
      "8     50 2023-01-09            35.0\n",
      "9     55 2023-01-10            40.0\n"
     ]
    }
   ],
   "source": [
    "# Q10. Given a Pandas DataFrame df with a column 'Sales' and a column 'Date', write a Python function to\n",
    "# create a new column 'MovingAverage' that contains the moving average of the sales for the past 7 days\n",
    "# for each row in the DataFrame. The moving average should be calculated using a window of size 7 and\n",
    "# should include the current day.\n",
    "\n",
    "data = {'Sales': [10, 15, 20, 25, 30, 35, 40, 45, 50, 55],\n",
    "        'Date': pd.date_range(start='2023-01-01', periods=10)}\n",
    "df7 = pd.DataFrame(data)\n",
    "\n",
    "def calculate_moving_average(df):\n",
    "    df['Moving_Average'] = df['Sales'].rolling(window = 7 , min_periods=1).mean()\n",
    "    return df\n",
    "    \n",
    "print(\"Moving average :\" , calculate_moving_average(df7))"
   ]
  },
  {
   "cell_type": "code",
   "execution_count": 57,
   "id": "8073c597-bd16-4869-bf64-a74d5519c5af",
   "metadata": {},
   "outputs": [
    {
     "name": "stdout",
     "output_type": "stream",
     "text": [
      "        Date    Weekday\n",
      "0 2023-06-28  Wednesday\n",
      "1 2023-06-29   Thursday\n",
      "2 2023-06-30     Friday\n",
      "3 2023-07-01   Saturday\n",
      "4 2023-07-02     Sunday\n",
      "5 2023-07-03     Monday\n",
      "6 2023-07-04    Tuesday\n",
      "7 2023-07-05  Wednesday\n",
      "8 2023-07-06   Thursday\n",
      "9 2023-07-07     Friday\n"
     ]
    },
    {
     "name": "stderr",
     "output_type": "stream",
     "text": [
      "/tmp/ipykernel_78/2153676648.py:10: UserWarning: Parsing dates in DD/MM/YYYY format when dayfirst=False (the default) was specified. This may lead to inconsistently parsed dates! Specify a format to ensure consistent parsing.\n",
      "  data = {'Date': pd.date_range(start=\"28-06-2023\", periods=10)}\n"
     ]
    }
   ],
   "source": [
    "# Q11. You have a Pandas DataFrame df with a column 'Date'. Write a Python function that creates a new\n",
    "# column 'Weekday' in the DataFrame. The 'Weekday' column should contain the weekday name (e.g.\n",
    "# Monday, Tuesday) corresponding to each date in the 'Date' column.\n",
    "\n",
    "def add_weekday_column(df, date_column):\n",
    "    df['Weekday'] = pd.to_datetime(df[date_column]).dt.strftime('%A')\n",
    "    return df\n",
    "\n",
    "# Create the DataFrame from the data dictionary\n",
    "data = {'Date': pd.date_range(start=\"28-06-2023\", periods=10)}\n",
    "df = pd.DataFrame(data)\n",
    "\n",
    "# Call the function with the date format specified\n",
    "df = add_weekday_column(df, 'Date')\n",
    "\n",
    "# Print the updated DataFrame\n",
    "print(df)\n"
   ]
  },
  {
   "cell_type": "code",
   "execution_count": 59,
   "id": "d1c851ee-bf97-4467-b533-c758599e684d",
   "metadata": {},
   "outputs": [
    {
     "name": "stdout",
     "output_type": "stream",
     "text": [
      "         Date\n",
      "0  2023-01-01\n",
      "1  2023-01-02\n",
      "2  2023-01-03\n",
      "3  2023-01-04\n",
      "4  2023-01-05\n",
      "5  2023-01-06\n",
      "6  2023-01-07\n",
      "7  2023-01-08\n",
      "8  2023-01-09\n",
      "9  2023-01-10\n",
      "10 2023-01-11\n",
      "11 2023-01-12\n",
      "12 2023-01-13\n",
      "13 2023-01-14\n",
      "14 2023-01-15\n",
      "15 2023-01-16\n",
      "16 2023-01-17\n",
      "17 2023-01-18\n",
      "18 2023-01-19\n",
      "19 2023-01-20\n",
      "20 2023-01-21\n",
      "21 2023-01-22\n",
      "22 2023-01-23\n",
      "23 2023-01-24\n",
      "24 2023-01-25\n",
      "25 2023-01-26\n",
      "26 2023-01-27\n",
      "27 2023-01-28\n",
      "28 2023-01-29\n",
      "29 2023-01-30\n",
      "30 2023-01-31\n"
     ]
    }
   ],
   "source": [
    "# Q12. Given a Pandas DataFrame df with a column 'Date' that contains timestamps, write a Python\n",
    "#      function to select all rows where the date is between '2023-01-01' and '2023-01-31'.\n",
    "\n",
    "def select_rows_between_dates(df, date_column, start_date, end_date):\n",
    "    mask = (df[date_column] >= start_date) & (df[date_column] <= end_date)\n",
    "    selected_rows = df[mask]\n",
    "    return selected_rows\n",
    "\n",
    "# Example DataFrame\n",
    "df8 = pd.DataFrame({'Date': pd.date_range(start='2023-01-01', end='2023-02-15')})\n",
    "\n",
    "# Call the function to select rows between '2023-01-01' and '2023-01-31'\n",
    "selected_rows = select_rows_between_dates(df8, 'Date', '2023-01-01', '2023-01-31')\n",
    "\n",
    "# Print the selected rows\n",
    "print(selected_rows)"
   ]
  },
  {
   "cell_type": "code",
   "execution_count": null,
   "id": "c2ff1460-55a7-425e-9369-5a116299e49e",
   "metadata": {},
   "outputs": [],
   "source": [
    "# Q13. To use the basic functions of pandas, what is the first and foremost necessary library that needs to\n",
    "#    be imported?\n",
    "\n",
    "import pandas as pd\n"
   ]
  },
  {
   "cell_type": "code",
   "execution_count": null,
   "id": "e309f4ca-a2f0-4bdb-a9e9-06b0425da130",
   "metadata": {},
   "outputs": [],
   "source": []
  }
 ],
 "metadata": {
  "kernelspec": {
   "display_name": "Python 3 (ipykernel)",
   "language": "python",
   "name": "python3"
  },
  "language_info": {
   "codemirror_mode": {
    "name": "ipython",
    "version": 3
   },
   "file_extension": ".py",
   "mimetype": "text/x-python",
   "name": "python",
   "nbconvert_exporter": "python",
   "pygments_lexer": "ipython3",
   "version": "3.10.8"
  }
 },
 "nbformat": 4,
 "nbformat_minor": 5
}
