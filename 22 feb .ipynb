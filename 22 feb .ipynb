{
 "cells": [
  {
   "cell_type": "code",
   "execution_count": 1,
   "id": "c8f9f709-a6e6-4560-9bc0-dfb6c3db0924",
   "metadata": {},
   "outputs": [],
   "source": [
    "# Q1. Create a Pandas Series that contains the following data: 4, 8, 15, 16, 23, and 42. Then, print the series."
   ]
  },
  {
   "cell_type": "code",
   "execution_count": 2,
   "id": "fcbf8727-4cf8-4ec6-bfb9-050d252214d7",
   "metadata": {},
   "outputs": [],
   "source": [
    "import pandas as pd"
   ]
  },
  {
   "cell_type": "code",
   "execution_count": 3,
   "id": "a625caff-d7a0-471c-ad96-6931327a74eb",
   "metadata": {},
   "outputs": [
    {
     "name": "stdout",
     "output_type": "stream",
     "text": [
      "Pandas Series:\n",
      "0     4\n",
      "1     8\n",
      "2    15\n",
      "3    16\n",
      "4    23\n",
      "5    42\n",
      "dtype: int64\n"
     ]
    }
   ],
   "source": [
    "# Create a Pandas Series with the given data\n",
    "data = [4, 8, 15, 16, 23, 42]\n",
    "series = pd.Series(data)\n",
    "\n",
    "# Print the Series\n",
    "print(\"Pandas Series:\")\n",
    "print(series)"
   ]
  },
  {
   "cell_type": "code",
   "execution_count": 4,
   "id": "1a62e7db-71f6-4cb0-8f5c-27c6a6ba83ec",
   "metadata": {},
   "outputs": [],
   "source": [
    "# Q2. Create a variable of list type containing 10 elements in it, and apply pandas.Series function on the variable print it."
   ]
  },
  {
   "cell_type": "code",
   "execution_count": 5,
   "id": "84f68d93-ab8f-4e17-bf36-8edc40c93723",
   "metadata": {},
   "outputs": [
    {
     "name": "stdout",
     "output_type": "stream",
     "text": [
      "Pandas Series:\n",
      "0     1\n",
      "1     2\n",
      "2     3\n",
      "3     4\n",
      "4     5\n",
      "5     6\n",
      "6     7\n",
      "7     8\n",
      "8     9\n",
      "9    10\n",
      "dtype: int64\n"
     ]
    }
   ],
   "source": [
    "# Create a list variable containing 10 elements\n",
    "my_list = [1, 2, 3, 4, 5, 6, 7, 8, 9, 10]\n",
    "\n",
    "# Apply the pd.Series() function on the list variable\n",
    "my_series = pd.Series(my_list)\n",
    "\n",
    "# Print the Series\n",
    "print(\"Pandas Series:\")\n",
    "print(my_series)"
   ]
  },
  {
   "cell_type": "code",
   "execution_count": 6,
   "id": "1f64da89-deaa-4d9b-8c22-243a63822af4",
   "metadata": {},
   "outputs": [],
   "source": [
    "# Q3. Create a Pandas DataFrame that contains the following data:"
   ]
  },
  {
   "cell_type": "code",
   "execution_count": 7,
   "id": "f2fddae9-0286-488a-8fb6-4cffa0f45b80",
   "metadata": {},
   "outputs": [],
   "source": [
    "dict = { 'Name': ['Alice' ,'Bob', 'Claire'] , 'Age': [25 ,30,27], 'Gender' :['Female','Male','Female ']}"
   ]
  },
  {
   "cell_type": "code",
   "execution_count": 8,
   "id": "663cb0ac-1f0f-4ad8-9b6f-a2a7bda33158",
   "metadata": {},
   "outputs": [],
   "source": [
    "df = pd.DataFrame(dict)"
   ]
  },
  {
   "cell_type": "code",
   "execution_count": 9,
   "id": "5553b590-3b2f-4b7e-936f-b857eb806ead",
   "metadata": {},
   "outputs": [
    {
     "data": {
      "text/html": [
       "<div>\n",
       "<style scoped>\n",
       "    .dataframe tbody tr th:only-of-type {\n",
       "        vertical-align: middle;\n",
       "    }\n",
       "\n",
       "    .dataframe tbody tr th {\n",
       "        vertical-align: top;\n",
       "    }\n",
       "\n",
       "    .dataframe thead th {\n",
       "        text-align: right;\n",
       "    }\n",
       "</style>\n",
       "<table border=\"1\" class=\"dataframe\">\n",
       "  <thead>\n",
       "    <tr style=\"text-align: right;\">\n",
       "      <th></th>\n",
       "      <th>Name</th>\n",
       "      <th>Age</th>\n",
       "      <th>Gender</th>\n",
       "    </tr>\n",
       "  </thead>\n",
       "  <tbody>\n",
       "    <tr>\n",
       "      <th>0</th>\n",
       "      <td>Alice</td>\n",
       "      <td>25</td>\n",
       "      <td>Female</td>\n",
       "    </tr>\n",
       "    <tr>\n",
       "      <th>1</th>\n",
       "      <td>Bob</td>\n",
       "      <td>30</td>\n",
       "      <td>Male</td>\n",
       "    </tr>\n",
       "    <tr>\n",
       "      <th>2</th>\n",
       "      <td>Claire</td>\n",
       "      <td>27</td>\n",
       "      <td>Female</td>\n",
       "    </tr>\n",
       "  </tbody>\n",
       "</table>\n",
       "</div>"
      ],
      "text/plain": [
       "     Name  Age   Gender\n",
       "0   Alice   25   Female\n",
       "1     Bob   30     Male\n",
       "2  Claire   27  Female "
      ]
     },
     "execution_count": 9,
     "metadata": {},
     "output_type": "execute_result"
    }
   ],
   "source": [
    "df"
   ]
  },
  {
   "cell_type": "code",
   "execution_count": 11,
   "id": "9858efb9-0782-4990-81fa-8488d4e84261",
   "metadata": {},
   "outputs": [],
   "source": [
    "#Q7. Create a DataFrame using multiple Series. Explain with an example."
   ]
  },
  {
   "cell_type": "code",
   "execution_count": 12,
   "id": "582d14a1-657d-42b5-bba3-27fea23bb0b7",
   "metadata": {},
   "outputs": [
    {
     "name": "stdout",
     "output_type": "stream",
     "text": [
      "Pandas DataFrame:\n",
      "<class 'pandas.core.frame.DataFrame'>\n"
     ]
    }
   ],
   "source": [
    "# Create two Pandas Series\n",
    "sr1 = pd.Series(['php', 'python', 'java', 'c', 'c++'])\n",
    "sr2 = pd.Series([1, 2, 3, 4, 5])\n",
    "\n",
    "# Combine the Series into a DataFrame using pd.concat()\n",
    "df = pd.concat([sr1, sr2], axis=1)\n",
    "\n",
    "# Print the DataFrame\n",
    "print(\"Pandas DataFrame:\")\n",
    "print(df)"
   ]
  },
  {
   "cell_type": "code",
   "execution_count": null,
   "id": "8161b731-7076-4e4b-8ef2-7ee84628f94b",
   "metadata": {},
   "outputs": [],
   "source": []
  }
 ],
 "metadata": {
  "kernelspec": {
   "display_name": "Python 3 (ipykernel)",
   "language": "python",
   "name": "python3"
  },
  "language_info": {
   "codemirror_mode": {
    "name": "ipython",
    "version": 3
   },
   "file_extension": ".py",
   "mimetype": "text/x-python",
   "name": "python",
   "nbconvert_exporter": "python",
   "pygments_lexer": "ipython3",
   "version": "3.10.8"
  }
 },
 "nbformat": 4,
 "nbformat_minor": 5
}
